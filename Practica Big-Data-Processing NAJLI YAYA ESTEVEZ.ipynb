{
 "cells": [
  {
   "cell_type": "code",
   "execution_count": 1,
   "id": "02b9b0a6",
   "metadata": {},
   "outputs": [],
   "source": [
    "#Primero importamos librerías necesarias e instalamos Spark en el Notebook\n",
    "\n",
    "import findspark\n",
    "findspark.init()\n",
    "\n",
    "import pandas as pd\n",
    "import pyspark"
   ]
  },
  {
   "cell_type": "code",
   "execution_count": 2,
   "id": "37a0d1b2",
   "metadata": {},
   "outputs": [],
   "source": [
    "#Importamos librerías de Pyspark y abrimos la sesión y contexto Spark\n",
    "\n",
    "from pyspark.sql import SparkSession\n",
    "from pyspark.sql.functions import *\n",
    "from pyspark.sql.window import Window\n",
    "\n",
    "spark = SparkSession.builder\\\n",
    "        .master(\"local[*]\")\\\n",
    "        .appName('PySpark_Df')\\\n",
    "        .getOrCreate()"
   ]
  },
  {
   "cell_type": "code",
   "execution_count": 3,
   "id": "a277f50f",
   "metadata": {},
   "outputs": [],
   "source": [
    "#Importamos los datasets en .csv usando la función de Spark para csv\n",
    "worldhapprep = spark.read.csv(\"C:/Users/Usuario/Desktop/big-data-processing/Proyecto-Final/Datasets/world-happiness-report.csv\", sep=\",\", header=True, inferSchema=True)\n",
    "worldhapprep21 = spark.read.csv(\"C:/Users/Usuario/Desktop/big-data-processing/Proyecto-Final/Datasets/world-happiness-report-2021.csv\", sep=\",\", header=True, inferSchema=True)"
   ]
  },
  {
   "cell_type": "code",
   "execution_count": 4,
   "id": "2e827f37",
   "metadata": {
    "scrolled": true
   },
   "outputs": [
    {
     "name": "stdout",
     "output_type": "stream",
     "text": [
      "+------------+----+-----------+------------------+--------------+--------------------------------+----------------------------+----------+-------------------------+---------------+---------------+\n",
      "|Country name|year|Life Ladder|Log GDP per capita|Social support|Healthy life expectancy at birth|Freedom to make life choices|Generosity|Perceptions of corruption|Positive affect|Negative affect|\n",
      "+------------+----+-----------+------------------+--------------+--------------------------------+----------------------------+----------+-------------------------+---------------+---------------+\n",
      "| Afghanistan|2008|      3.724|              7.37|         0.451|                            50.8|                       0.718|     0.168|                    0.882|          0.518|          0.258|\n",
      "| Afghanistan|2009|      4.402|              7.54|         0.552|                            51.2|                       0.679|      0.19|                     0.85|          0.584|          0.237|\n",
      "| Afghanistan|2010|      4.758|             7.647|         0.539|                            51.6|                         0.6|     0.121|                    0.707|          0.618|          0.275|\n",
      "| Afghanistan|2011|      3.832|              7.62|         0.521|                           51.92|                       0.496|     0.162|                    0.731|          0.611|          0.267|\n",
      "| Afghanistan|2012|      3.783|             7.705|         0.521|                           52.24|                       0.531|     0.236|                    0.776|           0.71|          0.268|\n",
      "| Afghanistan|2013|      3.572|             7.725|         0.484|                           52.56|                       0.578|     0.061|                    0.823|          0.621|          0.273|\n",
      "| Afghanistan|2014|      3.131|             7.718|         0.526|                           52.88|                       0.509|     0.104|                    0.871|          0.532|          0.375|\n",
      "| Afghanistan|2015|      3.983|             7.702|         0.529|                            53.2|                       0.389|      0.08|                    0.881|          0.554|          0.339|\n",
      "| Afghanistan|2016|       4.22|             7.697|         0.559|                            53.0|                       0.523|     0.042|                    0.793|          0.565|          0.348|\n",
      "| Afghanistan|2017|      2.662|             7.697|         0.491|                            52.8|                       0.427|    -0.121|                    0.954|          0.496|          0.371|\n",
      "+------------+----+-----------+------------------+--------------+--------------------------------+----------------------------+----------+-------------------------+---------------+---------------+\n",
      "only showing top 10 rows\n",
      "\n"
     ]
    }
   ],
   "source": [
    "#Chequeo visual\n",
    "worldhapprep.show(10)"
   ]
  },
  {
   "cell_type": "code",
   "execution_count": 5,
   "id": "a653966a",
   "metadata": {
    "scrolled": true
   },
   "outputs": [
    {
     "name": "stdout",
     "output_type": "stream",
     "text": [
      "+------------+--------------------+------------+------------------------------+------------+------------+---------------------+--------------+-----------------------+----------------------------+----------+-------------------------+------------------------+--------------------------------+----------------------------+-------------------------------------+------------------------------------------+------------------------+---------------------------------------+-------------------+\n",
      "|Country name|  Regional indicator|Ladder score|Standard error of ladder score|upperwhisker|lowerwhisker|Logged GDP per capita|Social support|Healthy life expectancy|Freedom to make life choices|Generosity|Perceptions of corruption|Ladder score in Dystopia|Explained by: Log GDP per capita|Explained by: Social support|Explained by: Healthy life expectancy|Explained by: Freedom to make life choices|Explained by: Generosity|Explained by: Perceptions of corruption|Dystopia + residual|\n",
      "+------------+--------------------+------------+------------------------------+------------+------------+---------------------+--------------+-----------------------+----------------------------+----------+-------------------------+------------------------+--------------------------------+----------------------------+-------------------------------------+------------------------------------------+------------------------+---------------------------------------+-------------------+\n",
      "|     Finland|      Western Europe|       7.842|                         0.032|       7.904|        7.78|               10.775|         0.954|                   72.0|                       0.949|    -0.098|                    0.186|                    2.43|                           1.446|                       1.106|                                0.741|                                     0.691|                   0.124|                                  0.481|              3.253|\n",
      "|     Denmark|      Western Europe|        7.62|                         0.035|       7.687|       7.552|               10.933|         0.954|                   72.7|                       0.946|      0.03|                    0.179|                    2.43|                           1.502|                       1.108|                                0.763|                                     0.686|                   0.208|                                  0.485|              2.868|\n",
      "| Switzerland|      Western Europe|       7.571|                         0.036|       7.643|         7.5|               11.117|         0.942|                   74.4|                       0.919|     0.025|                    0.292|                    2.43|                           1.566|                       1.079|                                0.816|                                     0.653|                   0.204|                                  0.413|              2.839|\n",
      "|     Iceland|      Western Europe|       7.554|                         0.059|        7.67|       7.438|               10.878|         0.983|                   73.0|                       0.955|      0.16|                    0.673|                    2.43|                           1.482|                       1.172|                                0.772|                                     0.698|                   0.293|                                   0.17|              2.967|\n",
      "| Netherlands|      Western Europe|       7.464|                         0.027|       7.518|        7.41|               10.932|         0.942|                   72.4|                       0.913|     0.175|                    0.338|                    2.43|                           1.501|                       1.079|                                0.753|                                     0.647|                   0.302|                                  0.384|              2.798|\n",
      "|      Norway|      Western Europe|       7.392|                         0.035|       7.462|       7.323|               11.053|         0.954|                   73.3|                        0.96|     0.093|                     0.27|                    2.43|                           1.543|                       1.108|                                0.782|                                     0.703|                   0.249|                                  0.427|               2.58|\n",
      "|      Sweden|      Western Europe|       7.363|                         0.036|       7.433|       7.293|               10.867|         0.934|                   72.7|                       0.945|     0.086|                    0.237|                    2.43|                           1.478|                       1.062|                                0.763|                                     0.685|                   0.244|                                  0.448|              2.683|\n",
      "|  Luxembourg|      Western Europe|       7.324|                         0.037|       7.396|       7.252|               11.647|         0.908|                   72.6|                       0.907|    -0.034|                    0.386|                    2.43|                           1.751|                       1.003|                                 0.76|                                     0.639|                   0.166|                                  0.353|              2.653|\n",
      "| New Zealand|North America and...|       7.277|                          0.04|       7.355|       7.198|               10.643|         0.948|                   73.4|                       0.929|     0.134|                    0.242|                    2.43|                             1.4|                       1.094|                                0.785|                                     0.665|                   0.276|                                  0.445|              2.612|\n",
      "|     Austria|      Western Europe|       7.268|                         0.036|       7.337|       7.198|               10.906|         0.934|                   73.3|                       0.908|     0.042|                    0.481|                    2.43|                           1.492|                       1.062|                                0.782|                                      0.64|                   0.215|                                  0.292|              2.784|\n",
      "+------------+--------------------+------------+------------------------------+------------+------------+---------------------+--------------+-----------------------+----------------------------+----------+-------------------------+------------------------+--------------------------------+----------------------------+-------------------------------------+------------------------------------------+------------------------+---------------------------------------+-------------------+\n",
      "only showing top 10 rows\n",
      "\n"
     ]
    }
   ],
   "source": [
    "#Chequeo visual\n",
    "worldhapprep21.show(10)"
   ]
  },
  {
   "cell_type": "code",
   "execution_count": 6,
   "id": "706564e6",
   "metadata": {},
   "outputs": [
    {
     "name": "stdout",
     "output_type": "stream",
     "text": [
      "+------------+----+-----------+------------------+--------------+--------------------------------+----------------------------+----------+-------------------------+---------------+---------------+\n",
      "|Country name|year|Life Ladder|Log GDP per capita|Social support|Healthy life expectancy at birth|Freedom to make life choices|Generosity|Perceptions of corruption|Positive affect|Negative affect|\n",
      "+------------+----+-----------+------------------+--------------+--------------------------------+----------------------------+----------+-------------------------+---------------+---------------+\n",
      "+------------+----+-----------+------------------+--------------+--------------------------------+----------------------------+----------+-------------------------+---------------+---------------+\n",
      "\n"
     ]
    }
   ],
   "source": [
    "#Chequeo que no haya países con nombre a null\n",
    "worldhapprep.filter(worldhapprep[\"Country Name\"].isNull()).show()"
   ]
  },
  {
   "cell_type": "code",
   "execution_count": 7,
   "id": "381ecb68",
   "metadata": {},
   "outputs": [
    {
     "name": "stdout",
     "output_type": "stream",
     "text": [
      "+------------+------------------+------------+------------------------------+------------+------------+---------------------+--------------+-----------------------+----------------------------+----------+-------------------------+------------------------+--------------------------------+----------------------------+-------------------------------------+------------------------------------------+------------------------+---------------------------------------+-------------------+\n",
      "|Country name|Regional indicator|Ladder score|Standard error of ladder score|upperwhisker|lowerwhisker|Logged GDP per capita|Social support|Healthy life expectancy|Freedom to make life choices|Generosity|Perceptions of corruption|Ladder score in Dystopia|Explained by: Log GDP per capita|Explained by: Social support|Explained by: Healthy life expectancy|Explained by: Freedom to make life choices|Explained by: Generosity|Explained by: Perceptions of corruption|Dystopia + residual|\n",
      "+------------+------------------+------------+------------------------------+------------+------------+---------------------+--------------+-----------------------+----------------------------+----------+-------------------------+------------------------+--------------------------------+----------------------------+-------------------------------------+------------------------------------------+------------------------+---------------------------------------+-------------------+\n",
      "+------------+------------------+------------+------------------------------+------------+------------+---------------------+--------------+-----------------------+----------------------------+----------+-------------------------+------------------------+--------------------------------+----------------------------+-------------------------------------+------------------------------------------+------------------------+---------------------------------------+-------------------+\n",
      "\n"
     ]
    }
   ],
   "source": [
    "#Chequeo que no haya países con nombre a null\n",
    "worldhapprep21.filter(worldhapprep21['Country name'].isNull()).show()"
   ]
  },
  {
   "cell_type": "code",
   "execution_count": 8,
   "id": "4861b651",
   "metadata": {},
   "outputs": [
    {
     "name": "stdout",
     "output_type": "stream",
     "text": [
      "root\n",
      " |-- Country name: string (nullable = true)\n",
      " |-- year: integer (nullable = true)\n",
      " |-- Life Ladder: double (nullable = true)\n",
      " |-- Log GDP per capita: double (nullable = true)\n",
      " |-- Social support: double (nullable = true)\n",
      " |-- Healthy life expectancy at birth: double (nullable = true)\n",
      " |-- Freedom to make life choices: double (nullable = true)\n",
      " |-- Generosity: double (nullable = true)\n",
      " |-- Perceptions of corruption: double (nullable = true)\n",
      " |-- Positive affect: double (nullable = true)\n",
      " |-- Negative affect: double (nullable = true)\n",
      "\n"
     ]
    }
   ],
   "source": [
    "#Imprimo el esquema de los datos para chequearlo:\n",
    "worldhapprep.printSchema()"
   ]
  },
  {
   "cell_type": "code",
   "execution_count": 9,
   "id": "c8a833ef",
   "metadata": {},
   "outputs": [
    {
     "name": "stdout",
     "output_type": "stream",
     "text": [
      "root\n",
      " |-- Country name: string (nullable = true)\n",
      " |-- Regional indicator: string (nullable = true)\n",
      " |-- Ladder score: double (nullable = true)\n",
      " |-- Standard error of ladder score: double (nullable = true)\n",
      " |-- upperwhisker: double (nullable = true)\n",
      " |-- lowerwhisker: double (nullable = true)\n",
      " |-- Logged GDP per capita: double (nullable = true)\n",
      " |-- Social support: double (nullable = true)\n",
      " |-- Healthy life expectancy: double (nullable = true)\n",
      " |-- Freedom to make life choices: double (nullable = true)\n",
      " |-- Generosity: double (nullable = true)\n",
      " |-- Perceptions of corruption: double (nullable = true)\n",
      " |-- Ladder score in Dystopia: double (nullable = true)\n",
      " |-- Explained by: Log GDP per capita: double (nullable = true)\n",
      " |-- Explained by: Social support: double (nullable = true)\n",
      " |-- Explained by: Healthy life expectancy: double (nullable = true)\n",
      " |-- Explained by: Freedom to make life choices: double (nullable = true)\n",
      " |-- Explained by: Generosity: double (nullable = true)\n",
      " |-- Explained by: Perceptions of corruption: double (nullable = true)\n",
      " |-- Dystopia + residual: double (nullable = true)\n",
      "\n"
     ]
    }
   ],
   "source": [
    "#Imprimo el esquema de los datos para chequearlo:\n",
    "worldhapprep21.printSchema()"
   ]
  },
  {
   "cell_type": "code",
   "execution_count": 10,
   "id": "0dfa08a8",
   "metadata": {},
   "outputs": [
    {
     "name": "stdout",
     "output_type": "stream",
     "text": [
      "+------------+------------+\n",
      "|Country name|Ladder score|\n",
      "+------------+------------+\n",
      "|     Finland|       7.842|\n",
      "+------------+------------+\n",
      "only showing top 1 row\n",
      "\n"
     ]
    }
   ],
   "source": [
    "## 1. ¿Cuál es el país más “feliz” del 2021 según la data? \n",
    "\n",
    "preg_1 = worldhapprep21.select(\"Country name\",\"Ladder score\").sort(\"Ladder score\", ascending = False)\n",
    "\n",
    "preg_1.show(1)"
   ]
  },
  {
   "cell_type": "code",
   "execution_count": 11,
   "id": "2901a954",
   "metadata": {},
   "outputs": [
    {
     "name": "stdout",
     "output_type": "stream",
     "text": [
      "+--------------------+----------------+--------------------+\n",
      "|  Regional indicator|Max Ladder score|             Country|\n",
      "+--------------------+----------------+--------------------+\n",
      "|      Western Europe|           7.842|             Finland|\n",
      "|North America and...|           7.277|         New Zealand|\n",
      "|Middle East and N...|           7.157|              Israel|\n",
      "|Latin America and...|           7.069|          Costa Rica|\n",
      "|Central and Easte...|           6.965|      Czech Republic|\n",
      "|           East Asia|           6.584|Taiwan Province o...|\n",
      "|      Southeast Asia|           6.377|           Singapore|\n",
      "|Commonwealth of I...|           6.179|          Uzbekistan|\n",
      "|  Sub-Saharan Africa|           6.049|           Mauritius|\n",
      "|          South Asia|           5.269|               Nepal|\n",
      "+--------------------+----------------+--------------------+\n",
      "\n"
     ]
    }
   ],
   "source": [
    "## 2. ¿Cuál es el país más “feliz” del 2021 por continente según la data?\n",
    "\n",
    "#Considero la columna \"Regional indicator\" para hacer este análisis\n",
    "preg_2 = (worldhapprep21.groupBy(\"Regional indicator\")\n",
    "         .agg(\n",
    "            max(\"Ladder score\").alias(\"Max Ladder score\"),\n",
    "             first(\"Country name\").alias(\"Country\")\n",
    "            )\n",
    "    .sort(desc(\"Max Ladder score\"))\n",
    "          )\n",
    "preg_2.show()"
   ]
  },
  {
   "cell_type": "code",
   "execution_count": 12,
   "id": "60f30de8",
   "metadata": {},
   "outputs": [
    {
     "name": "stdout",
     "output_type": "stream",
     "text": [
      "+------------+------------+\n",
      "|Country name|Total #1 Rnk|\n",
      "+------------+------------+\n",
      "|     Denmark|           7|\n",
      "+------------+------------+\n",
      "only showing top 1 row\n",
      "\n"
     ]
    }
   ],
   "source": [
    "## 3. ¿Cuál es el país que más veces ocupó el primer lugar?\n",
    "\n",
    "#Para usar funciones de ranking, primero hay que hacer window partitioning\n",
    "windowPart = Window.partitionBy(\"year\").orderBy(desc(\"Life Ladder\"))\n",
    "\n",
    "rankeddf = worldhapprep.withColumn(\"Ranking\", rank().over(windowPart)).filter(col('Ranking')==1)\n",
    "\n",
    "preg_3 = rankeddf.groupBy(\"Country name\").agg(\n",
    "                                      count(col('Ranking')).alias(\"Total #1 Rnk\") \n",
    "                                  ).sort(desc(\"Total #1 Rnk\"))\n",
    "\n",
    "preg_3.show(1)"
   ]
  },
  {
   "cell_type": "code",
   "execution_count": 13,
   "id": "a793adb2",
   "metadata": {},
   "outputs": [
    {
     "name": "stdout",
     "output_type": "stream",
     "text": [
      "+------------+------------------+-----------------+\n",
      "|Country name|Log GDP per capita|Happiness Rnk Pos|\n",
      "+------------+------------------+-----------------+\n",
      "|     Ireland|            11.323|               13|\n",
      "+------------+------------------+-----------------+\n",
      "only showing top 1 row\n",
      "\n"
     ]
    }
   ],
   "source": [
    "## 4. ¿Qué puesto de Felicidad tiene el país con mayor GDP del 2020?\n",
    "\n",
    "#Aquí también usamos una función de ranking para rankear el índice de felicidad:\n",
    "windowSpec = Window.partitionBy(\"year\").orderBy(desc(\"Life ladder\"))\n",
    "\n",
    "happydf = worldhapprep.withColumn(\"Happiness Rnk Pos\", rank().over(windowSpec)) \n",
    "\n",
    "preg_4 = happydf.select(\"Country name\", \"Log GDP per capita\", \"Happiness Rnk Pos\").filter(happydf.year == 2020)\\\n",
    "    .sort(happydf[\"Log GDP per capita\"].desc(), happydf[\"Happiness Rnk Pos\"])\n",
    "\n",
    "preg_4.show(1)\n"
   ]
  },
  {
   "cell_type": "code",
   "execution_count": 14,
   "id": "184ece28",
   "metadata": {},
   "outputs": [
    {
     "name": "stdout",
     "output_type": "stream",
     "text": [
      "+------------+------------------+\n",
      "|Country name|Average Life Expec|\n",
      "+------------+------------------+\n",
      "|   Singapore| 75.35846153846154|\n",
      "+------------+------------------+\n",
      "only showing top 1 row\n",
      "\n"
     ]
    }
   ],
   "source": [
    "## 6.a ¿Cuál es el país con mayor expectativa de vida (“Healthy life expectancy at birth”)? \n",
    "\n",
    "#Nota: hay países con Healthy life expectancy at birth = null, voy a rellenar esos nulos con la media\n",
    "preg_6a = worldhapprep.na.fill(worldhapprep.select(mean(worldhapprep['Healthy life expectancy at birth'])).collect()[0][0])\n",
    "\n",
    "preg_6a = worldhapprep.groupBy(\"Country name\") \\\n",
    "             .agg(\n",
    "                    avg(\"Healthy life expectancy at birth\").alias(\"Average Life Expec\"),\n",
    "                ).orderBy(desc(\"Average Life Expec\"))\n",
    "preg_6a.show(1)\n",
    "            "
   ]
  },
  {
   "cell_type": "code",
   "execution_count": 15,
   "id": "35f752bc",
   "metadata": {},
   "outputs": [
    {
     "name": "stdout",
     "output_type": "stream",
     "text": [
      "+------------+----+----------------+\n",
      "|Country name|year|Average Life Exp|\n",
      "+------------+----+----------------+\n",
      "|   Singapore|2019|            77.1|\n",
      "+------------+----+----------------+\n",
      "\n"
     ]
    }
   ],
   "source": [
    "## 6.b Y ¿Cuánto tenía en ese indicador en el 2019?\n",
    "\n",
    "preg_6b = worldhapprep.groupBy(\"Country name\", \"year\") \\\n",
    "            .agg(\n",
    "                    avg(\"Healthy life expectancy at birth\").alias(\"Average Life Exp\")\n",
    "                 ).filter( (col('Country name') == lit(\"Singapore\")) & (col('year') == 2019 ))\n",
    "\n",
    "preg_6b.show()\n"
   ]
  }
 ],
 "metadata": {
  "kernelspec": {
   "display_name": "Python 3 (ipykernel)",
   "language": "python",
   "name": "python3"
  },
  "language_info": {
   "codemirror_mode": {
    "name": "ipython",
    "version": 3
   },
   "file_extension": ".py",
   "mimetype": "text/x-python",
   "name": "python",
   "nbconvert_exporter": "python",
   "pygments_lexer": "ipython3",
   "version": "3.9.12"
  }
 },
 "nbformat": 4,
 "nbformat_minor": 5
}
